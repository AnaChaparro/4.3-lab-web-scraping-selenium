{
 "cells": [
  {
   "cell_type": "code",
   "execution_count": 1,
   "metadata": {},
   "outputs": [
    {
     "name": "stdout",
     "output_type": "stream",
     "text": [
      "Requirement already satisfied: webdriver-manager in /Users/anachaparrohernandez/opt/anaconda3/lib/python3.9/site-packages (3.8.4)\n",
      "Requirement already satisfied: requests in /Users/anachaparrohernandez/opt/anaconda3/lib/python3.9/site-packages (from webdriver-manager) (2.27.1)\n",
      "Requirement already satisfied: python-dotenv in /Users/anachaparrohernandez/opt/anaconda3/lib/python3.9/site-packages (from webdriver-manager) (0.21.0)\n",
      "Requirement already satisfied: tqdm in /Users/anachaparrohernandez/opt/anaconda3/lib/python3.9/site-packages (from webdriver-manager) (4.64.0)\n",
      "Requirement already satisfied: urllib3<1.27,>=1.21.1 in /Users/anachaparrohernandez/opt/anaconda3/lib/python3.9/site-packages (from requests->webdriver-manager) (1.26.9)\n",
      "Requirement already satisfied: certifi>=2017.4.17 in /Users/anachaparrohernandez/opt/anaconda3/lib/python3.9/site-packages (from requests->webdriver-manager) (2021.10.8)\n",
      "Requirement already satisfied: charset-normalizer~=2.0.0 in /Users/anachaparrohernandez/opt/anaconda3/lib/python3.9/site-packages (from requests->webdriver-manager) (2.0.4)\n",
      "Requirement already satisfied: idna<4,>=2.5 in /Users/anachaparrohernandez/opt/anaconda3/lib/python3.9/site-packages (from requests->webdriver-manager) (3.3)\n",
      "Note: you may need to restart the kernel to use updated packages.\n"
     ]
    }
   ],
   "source": [
    "%pip install webdriver-manager"
   ]
  },
  {
   "cell_type": "markdown",
   "metadata": {},
   "source": [
    "# Web Scraping Lab\n",
    "\n",
    "You will find in this notebook some scrapy exercises to practise your scraping skills.\n",
    "\n",
    "**Tips:**\n",
    "\n",
    "- Check the response status code for each request to ensure you have obtained the intended contennt.\n",
    "- Print the response text in each request to understand the kind of info you are getting and its format.\n",
    "- Check for patterns in the response text to extract the data/info requested in each question.\n",
    "- Visit each url and take a look at its source through Chrome DevTools. You'll need to identify the html tags, special class names etc. used for the html content you are expected to extract."
   ]
  },
  {
   "cell_type": "markdown",
   "metadata": {},
   "source": [
    "- [Selenium Doc](https://www.selenium.dev/documentation/)\n",
    "- [Requests library](http://docs.python-requests.org/en/master/#the-user-guide) documentation \n",
    "- [Urllib](https://docs.python.org/3/library/urllib.html#module-urllib)\n",
    "- [re lib](https://docs.python.org/3/library/re.html)\n",
    "- [lxml lib](https://lxml.de/)\n",
    "- [Scrapy](https://scrapy.org/)\n",
    "- [List of HTTP status codes](https://en.wikipedia.org/wiki/List_of_HTTP_status_codes)\n",
    "- [HTML basics](http://www.simplehtmlguide.com/cheatsheet.php)\n",
    "- [CSS basics](https://www.cssbasics.com/#page_start)"
   ]
  },
  {
   "cell_type": "markdown",
   "metadata": {},
   "source": [
    "#### Below are the libraries and modules you may need. `Selenium` and `pandas` are imported for you."
   ]
  },
  {
   "cell_type": "code",
   "execution_count": 2,
   "metadata": {},
   "outputs": [],
   "source": [
    "import pandas as pd\n",
    "from selenium.webdriver.chrome.options import Options\n",
    "from webdriver_manager.chrome import ChromeDriverManager"
   ]
  },
  {
   "cell_type": "markdown",
   "metadata": {},
   "source": [
    "#### Enable the options you may need. In the next cell you have an example of them but you can choose to use them or not."
   ]
  },
  {
   "cell_type": "code",
   "execution_count": 3,
   "metadata": {},
   "outputs": [],
   "source": [
    "#driver configuration\n",
    "opciones=Options()\n",
    "\n",
    "opciones.add_experimental_option('excludeSwitches', ['enable-automation'])\n",
    "opciones.add_experimental_option('useAutomationExtension', False)\n",
    "opciones.headless=False    # si True, no aperece la ventana (headless=no visible)\n",
    "opciones.add_argument('--start-maximized')         # comienza maximizado\n",
    "#opciones.add_argument('user-data-dir=selenium')    # mantiene las cookies\n",
    "#opciones.add_extension('driver_folder/adblock.crx')       # adblocker\n",
    "opciones.add_argument('--incognito')"
   ]
  },
  {
   "cell_type": "code",
   "execution_count": 4,
   "metadata": {},
   "outputs": [],
   "source": [
    "#driver = \"./chromedriver.exe\"  #remember substitute this for your driver path\n",
    "#driver = webdriver.Chrome(driver,options = opciones)"
   ]
  },
  {
   "cell_type": "code",
   "execution_count": 5,
   "metadata": {},
   "outputs": [],
   "source": [
    "from selenium import webdriver"
   ]
  },
  {
   "cell_type": "code",
   "execution_count": 6,
   "metadata": {},
   "outputs": [],
   "source": [
    "from webdriver_manager.chrome import ChromeDriverManager\n",
    "\n",
    "PATH=ChromeDriverManager().install()"
   ]
  },
  {
   "cell_type": "code",
   "execution_count": 7,
   "metadata": {},
   "outputs": [],
   "source": [
    "from selenium.webdriver.common.by import By   \n",
    "\n",
    "import time\n",
    "\n",
    "import warnings\n",
    "warnings.filterwarnings('ignore')"
   ]
  },
  {
   "cell_type": "markdown",
   "metadata": {},
   "source": [
    "#### Download, parse, and print the content from the Trending Developers page from GitHub:"
   ]
  },
  {
   "cell_type": "code",
   "execution_count": 8,
   "metadata": {},
   "outputs": [],
   "source": [
    "# This is the url you will scrape in this exercise\n",
    "urlgit = 'https://github.com/trending/developers'"
   ]
  },
  {
   "cell_type": "code",
   "execution_count": 12,
   "metadata": {},
   "outputs": [],
   "source": [
    "#your code\n",
    "\n",
    "driver=webdriver.Chrome(PATH)         \n",
    "\n",
    "driver.get(urlgit)\n"
   ]
  },
  {
   "cell_type": "markdown",
   "metadata": {},
   "source": [
    "#### Display the names of the trending developers retrieved in the previous step.\n",
    "\n",
    "Your output should be a Python list of developer names. Each name should not contain any html tag.\n",
    "\n",
    "**Instructions:**\n",
    "\n",
    "1. Find out the html tag and class names used for the developer names.\n",
    "\n",
    "1. Use string manipulation techniques to replace whitespaces and linebreaks (i.e. `\\n`) in the *text* of each html element. Use a list to store the clean names.\n",
    "\n",
    "1. Print the list of names.\n",
    "\n",
    "Your output should look like below:\n",
    "\n",
    "```\n",
    "['trimstray (@trimstray)',\n",
    " 'joewalnes (JoeWalnes)',\n",
    " 'charlax (Charles-AxelDein)',\n",
    " 'ForrestKnight (ForrestKnight)',\n",
    " 'revery-ui (revery-ui)',\n",
    " 'alibaba (Alibaba)',\n",
    " 'Microsoft (Microsoft)',\n",
    " 'github (GitHub)',\n",
    " 'facebook (Facebook)',\n",
    " 'boazsegev (Bo)',\n",
    " 'google (Google)',\n",
    " 'cloudfetch',\n",
    " 'sindresorhus (SindreSorhus)',\n",
    " 'tensorflow',\n",
    " 'apache (TheApacheSoftwareFoundation)',\n",
    " 'DevonCrawford (DevonCrawford)',\n",
    " 'ARMmbed (ArmMbed)',\n",
    " 'vuejs (vuejs)',\n",
    " 'fastai (fast.ai)',\n",
    " 'QiShaoXuan (Qi)',\n",
    " 'joelparkerhenderson (JoelParkerHenderson)',\n",
    " 'torvalds (LinusTorvalds)',\n",
    " 'CyC2018',\n",
    " 'komeiji-satori (神楽坂覚々)',\n",
    " 'script-8']\n",
    " ```"
   ]
  },
  {
   "cell_type": "code",
   "execution_count": 13,
   "metadata": {},
   "outputs": [
    {
     "data": {
      "text/plain": [
       "[['1', '', 'Nikita Sobolev', 'sobolevn', 'awesome-cryptography', 'Follow'],\n",
       " ['awesome-cryptography'],\n",
       " ['2', '', 'Emil Ernerfeldt', 'emilk', 'egui', 'Follow'],\n",
       " ['egui'],\n",
       " ['3', '', 'Jonny Borges', 'jonataslaw', 'getx', 'Follow'],\n",
       " ['getx'],\n",
       " ['4', '', 'Stephen Celis', 'stephencelis', 'SQLite.swift', 'Follow'],\n",
       " ['SQLite.swift'],\n",
       " ['5', '', 'monkeyWie', 'gopeed', 'Follow'],\n",
       " ['gopeed'],\n",
       " ['6', '', 'Azure SDK Bot', 'azure-sdk', 'azure-sdk-for-python', 'Follow'],\n",
       " ['azure-sdk-for-python'],\n",
       " ['7', '', 'Martin Bonnin', 'martinbonnin', 'Follow'],\n",
       " ['8', '', 'Wangchong Zhou', 'fffonion', 'tplink-plug-exporter', 'Follow'],\n",
       " ['tplink-plug-exporter'],\n",
       " ['9', '', 'Ammar Ahmed', 'ammarahm-ed', 'react-native-geckoview', 'Follow'],\n",
       " ['react-native-geckoview'],\n",
       " ['10', '', 'Matt Bierner', 'mjbvz', 'vscode-folder-source-actions', 'Follow'],\n",
       " ['vscode-folder-source-actions'],\n",
       " ['11', '', 'Alessandro Ros', 'aler9', 'rtsp-simple-server', 'Follow'],\n",
       " ['rtsp-simple-server'],\n",
       " ['12', '', 'Mike Perham', 'mperham', 'sidekiq', 'Follow'],\n",
       " ['sidekiq'],\n",
       " ['13', '', 'DavidKorczynski', 'Follow'],\n",
       " ['14', '', 'Abhijeet Prasad', 'AbhiPrasad', 'Follow'],\n",
       " ['15', '', 'Mislav Marohnić', 'mislav', 'dotfiles', 'Follow'],\n",
       " ['dotfiles'],\n",
       " ['16', '', 'Leonard Hecker', 'lhecker', 'Follow'],\n",
       " ['17', '', 'Pedro Cuenca', 'pcuenca', 'alzheimer', 'Follow'],\n",
       " ['alzheimer'],\n",
       " ['18', '', 'Marcus Olsson', 'marcusolsson', 'obsidian-projects', 'Follow'],\n",
       " ['obsidian-projects'],\n",
       " ['19', '', 'Alex Eagle', 'alexeagle', 'Follow'],\n",
       " ['20', '', 'Nolan Lawson', 'nolanlawson', 'pinafore', 'Follow'],\n",
       " ['pinafore'],\n",
       " ['21', '', 'Luke Latham', 'guardrex', 'Follow'],\n",
       " ['22', '', 'Joshua Levy', 'jlevy', 'the-art-of-command-line', 'Follow'],\n",
       " ['the-art-of-command-line'],\n",
       " ['23', '', 'Bas Nijholt', 'basnijholt', 'adaptive-lighting', 'Follow'],\n",
       " ['adaptive-lighting'],\n",
       " ['24', '', 'Ice3man', 'Ice3man543', 'SubOver', 'Follow'],\n",
       " ['SubOver'],\n",
       " ['25', '', 'kunfei', 'gedoor', 'legado', 'Follow'],\n",
       " ['legado']]"
      ]
     },
     "execution_count": 13,
     "metadata": {},
     "output_type": "execute_result"
    }
   ],
   "source": [
    "tabla=driver.find_element(By.XPATH, '/html/body/div[4]/main/div[3]/div/div[2]')\n",
    "\n",
    "filas=tabla.find_elements(By.TAG_NAME, 'article')\n",
    "\n",
    "data=[]\n",
    "\n",
    "\n",
    "for f in filas:\n",
    "    \n",
    "    elemen=f.find_elements(By.TAG_NAME, 'a')\n",
    "    \n",
    "    tmp=[]\n",
    "    \n",
    "    for e in elemen:\n",
    "        \n",
    "        tmp.append(e.text)\n",
    "        \n",
    "    data.append(tmp)\n",
    "\n",
    "data"
   ]
  },
  {
   "cell_type": "code",
   "execution_count": 14,
   "metadata": {},
   "outputs": [],
   "source": [
    "names=[]\n",
    "\n",
    "for i in data:\n",
    "    \n",
    "    for e in range(len(i)):\n",
    "        \n",
    "        if e==2:\n",
    "            \n",
    "            names.append(i[e])"
   ]
  },
  {
   "cell_type": "code",
   "execution_count": 15,
   "metadata": {},
   "outputs": [],
   "source": [
    "apodos=[]\n",
    "\n",
    "for i in data:\n",
    "    \n",
    "    for e in range(len(i)):\n",
    "        \n",
    "        if e==3:\n",
    "            \n",
    "            apodos.append(i[e])"
   ]
  },
  {
   "cell_type": "code",
   "execution_count": 16,
   "metadata": {},
   "outputs": [
    {
     "data": {
      "text/plain": [
       "['Nikita Sobolev (sobolevn)',\n",
       " 'Emil Ernerfeldt (emilk)',\n",
       " 'Jonny Borges (jonataslaw)',\n",
       " 'Stephen Celis (stephencelis)',\n",
       " 'monkeyWie (gopeed)',\n",
       " 'Azure SDK Bot (azure-sdk)',\n",
       " 'Martin Bonnin (martinbonnin)',\n",
       " 'Wangchong Zhou (fffonion)',\n",
       " 'Ammar Ahmed (ammarahm-ed)',\n",
       " 'Matt Bierner (mjbvz)',\n",
       " 'Alessandro Ros (aler9)',\n",
       " 'Mike Perham (mperham)',\n",
       " 'DavidKorczynski (Follow)',\n",
       " 'Abhijeet Prasad (AbhiPrasad)',\n",
       " 'Mislav Marohnić (mislav)',\n",
       " 'Leonard Hecker (lhecker)',\n",
       " 'Pedro Cuenca (pcuenca)',\n",
       " 'Marcus Olsson (marcusolsson)',\n",
       " 'Alex Eagle (alexeagle)',\n",
       " 'Nolan Lawson (nolanlawson)',\n",
       " 'Luke Latham (guardrex)',\n",
       " 'Joshua Levy (jlevy)',\n",
       " 'Bas Nijholt (basnijholt)',\n",
       " 'Ice3man (Ice3man543)',\n",
       " 'kunfei (gedoor)']"
      ]
     },
     "execution_count": 16,
     "metadata": {},
     "output_type": "execute_result"
    }
   ],
   "source": [
    "res=[]\n",
    "\n",
    "for nam,ap in zip(names,apodos):\n",
    "    \n",
    "    res.append(f'{nam} ({ap})')\n",
    "    \n",
    "res"
   ]
  },
  {
   "cell_type": "code",
   "execution_count": 17,
   "metadata": {},
   "outputs": [],
   "source": [
    "#OTRA MANERA DE HACERLO:"
   ]
  },
  {
   "cell_type": "code",
   "execution_count": 18,
   "metadata": {},
   "outputs": [],
   "source": [
    "tabla1=driver.find_elements(By.CLASS_NAME, 'h3')\n",
    "nombres = [i.text.strip() for i in tabla1]"
   ]
  },
  {
   "cell_type": "code",
   "execution_count": 19,
   "metadata": {},
   "outputs": [],
   "source": [
    "tabla2=driver.find_elements(By.CLASS_NAME, 'f4')\n",
    "mote = [i.text.strip() for i in tabla2[2:25]]"
   ]
  },
  {
   "cell_type": "code",
   "execution_count": 20,
   "metadata": {},
   "outputs": [
    {
     "data": {
      "text/plain": [
       "['Nikita Sobolev (sobolevn)',\n",
       " 'Emil Ernerfeldt (emilk)',\n",
       " 'Jonny Borges (jonataslaw)',\n",
       " 'Stephen Celis (stephencelis)',\n",
       " 'monkeyWie (azure-sdk)',\n",
       " 'Azure SDK Bot (martinbonnin)',\n",
       " 'Martin Bonnin (fffonion)',\n",
       " 'Wangchong Zhou (ammarahm-ed)',\n",
       " 'Ammar Ahmed (mjbvz)',\n",
       " 'Matt Bierner (aler9)',\n",
       " 'Alessandro Ros (mperham)',\n",
       " 'Mike Perham (AbhiPrasad)',\n",
       " 'DavidKorczynski (mislav)',\n",
       " 'Abhijeet Prasad (lhecker)',\n",
       " 'Mislav Marohnić (pcuenca)',\n",
       " 'Leonard Hecker (marcusolsson)',\n",
       " 'Pedro Cuenca (alexeagle)',\n",
       " 'Marcus Olsson (nolanlawson)',\n",
       " 'Alex Eagle (guardrex)',\n",
       " 'Nolan Lawson (jlevy)',\n",
       " 'Luke Latham (basnijholt)',\n",
       " 'Joshua Levy (Ice3man543)',\n",
       " 'Bas Nijholt (gedoor)']"
      ]
     },
     "execution_count": 20,
     "metadata": {},
     "output_type": "execute_result"
    }
   ],
   "source": [
    "full=[]\n",
    "\n",
    "for nom,mot in zip(nombres,mote):\n",
    "    \n",
    "    full.append(f'{nom} ({mot})')\n",
    "    \n",
    "full"
   ]
  },
  {
   "cell_type": "markdown",
   "metadata": {},
   "source": [
    "#### Display the trending Python repositories in GitHub\n",
    "\n",
    "The steps to solve this problem is similar to the previous one except that you need to find out the repository names instead of developer names."
   ]
  },
  {
   "cell_type": "code",
   "execution_count": 21,
   "metadata": {},
   "outputs": [],
   "source": [
    "# This is the url you will scrape in this exercise\n",
    "urlpy = 'https://github.com/trending/python?since=daily'"
   ]
  },
  {
   "cell_type": "code",
   "execution_count": 22,
   "metadata": {},
   "outputs": [],
   "source": [
    "#your code\n",
    "\n",
    "driverpy=webdriver.Chrome(PATH)         \n",
    "\n",
    "driverpy.get(urlpy)"
   ]
  },
  {
   "cell_type": "code",
   "execution_count": 23,
   "metadata": {},
   "outputs": [],
   "source": [
    "tablarepos=driverpy.find_elements(By.CLASS_NAME, 'h3')\n",
    "repos = [i.text.strip() for i in tablarepos]"
   ]
  },
  {
   "cell_type": "code",
   "execution_count": 24,
   "metadata": {},
   "outputs": [
    {
     "data": {
      "text/plain": [
       "['public-apis / public-apis',\n",
       " 'bregman-arie / devops-exercises',\n",
       " 'facebookresearch / fairseq',\n",
       " 'cloneofsimo / paint-with-words-sd',\n",
       " 'Azure / azure-cli',\n",
       " 'caronc / apprise',\n",
       " 'joweich / chat-miner',\n",
       " 'PaddlePaddle / PaddleTS',\n",
       " 'mli / autocut',\n",
       " 'sczhou / CodeFormer',\n",
       " 'unifyai / ivy',\n",
       " 'augmentedstartups / AS-One',\n",
       " 'loTus04 / W4SP-Stealer',\n",
       " 'rwightman / pytorch-image-models',\n",
       " 'iterativv / NostalgiaForInfinity',\n",
       " 'getredash / redash',\n",
       " 'ethereum / consensus-specs',\n",
       " 'd8ahazard / sd_dreambooth_extension',\n",
       " 'microsoft / recommenders',\n",
       " 'zulip / zulip',\n",
       " 'ultralytics / yolov5',\n",
       " 'openai / improved-diffusion',\n",
       " 'facebookresearch / ParlAI',\n",
       " 'aliyun / surftrace',\n",
       " 'NVlabs / stylegan2-ada-pytorch']"
      ]
     },
     "execution_count": 24,
     "metadata": {},
     "output_type": "execute_result"
    }
   ],
   "source": [
    "repos"
   ]
  },
  {
   "cell_type": "markdown",
   "metadata": {},
   "source": [
    "#### Display all the image links from Walt Disney wikipedia page"
   ]
  },
  {
   "cell_type": "code",
   "execution_count": 25,
   "metadata": {},
   "outputs": [],
   "source": [
    "# This is the url you will scrape in this exercise\n",
    "urldis = 'https://en.wikipedia.org/wiki/Walt_Disney'"
   ]
  },
  {
   "cell_type": "code",
   "execution_count": 26,
   "metadata": {},
   "outputs": [],
   "source": [
    "#your code\n",
    "\n",
    "driverdis=webdriver.Chrome(PATH)         \n",
    "\n",
    "driverdis.get(urldis)"
   ]
  },
  {
   "cell_type": "code",
   "execution_count": 27,
   "metadata": {},
   "outputs": [
    {
     "data": {
      "text/plain": [
       "['https://upload.wikimedia.org/wikipedia/en/thumb/e/e7/Cscr-featured.svg/20px-Cscr-featured.svg.png',\n",
       " 'https://upload.wikimedia.org/wikipedia/en/thumb/8/8c/Extended-protection-shackle.svg/20px-Extended-protection-shackle.svg.png',\n",
       " 'https://upload.wikimedia.org/wikipedia/commons/thumb/d/df/Walt_Disney_1946.JPG/220px-Walt_Disney_1946.JPG',\n",
       " 'https://upload.wikimedia.org/wikipedia/commons/thumb/8/87/Walt_Disney_1942_signature.svg/150px-Walt_Disney_1942_signature.svg.png',\n",
       " 'https://upload.wikimedia.org/wikipedia/commons/thumb/3/3a/Walt_Disney_Birthplace_Exterior_Hermosa_Chicago_Illinois.jpg/220px-Walt_Disney_Birthplace_Exterior_Hermosa_Chicago_Illinois.jpg',\n",
       " 'https://upload.wikimedia.org/wikipedia/commons/thumb/c/c4/Walt_Disney_envelope_ca._1921.jpg/220px-Walt_Disney_envelope_ca._1921.jpg',\n",
       " 'https://upload.wikimedia.org/wikipedia/commons/thumb/0/0d/Trolley_Troubles_poster.jpg/170px-Trolley_Troubles_poster.jpg',\n",
       " 'https://upload.wikimedia.org/wikipedia/en/thumb/4/4e/Steamboat-willie.jpg/170px-Steamboat-willie.jpg',\n",
       " 'https://upload.wikimedia.org/wikipedia/commons/thumb/5/57/Walt_Disney_1935.jpg/170px-Walt_Disney_1935.jpg',\n",
       " 'https://upload.wikimedia.org/wikipedia/commons/thumb/c/cd/Walt_Disney_Snow_white_1937_trailer_screenshot_%2813%29.jpg/220px-Walt_Disney_Snow_white_1937_trailer_screenshot_%2813%29.jpg',\n",
       " 'https://upload.wikimedia.org/wikipedia/commons/thumb/1/15/Disney_drawing_goofy.jpg/170px-Disney_drawing_goofy.jpg',\n",
       " 'https://upload.wikimedia.org/wikipedia/commons/thumb/8/8c/WaltDisneyplansDisneylandDec1954.jpg/220px-WaltDisneyplansDisneylandDec1954.jpg',\n",
       " 'https://upload.wikimedia.org/wikipedia/commons/thumb/f/ff/Walt_disney_portrait_right.jpg/170px-Walt_disney_portrait_right.jpg',\n",
       " 'https://upload.wikimedia.org/wikipedia/commons/thumb/1/1a/Walt_Disney_Grave.JPG/170px-Walt_Disney_Grave.JPG',\n",
       " 'https://upload.wikimedia.org/wikipedia/commons/thumb/2/2d/Roy_O._Disney_with_Company_at_Press_Conference.jpg/170px-Roy_O._Disney_with_Company_at_Press_Conference.jpg',\n",
       " 'https://upload.wikimedia.org/wikipedia/commons/thumb/1/13/DisneySchiphol1951.jpg/220px-DisneySchiphol1951.jpg',\n",
       " 'https://upload.wikimedia.org/wikipedia/commons/thumb/6/6c/Disney1968.jpg/170px-Disney1968.jpg',\n",
       " 'https://upload.wikimedia.org/wikipedia/commons/thumb/b/b0/Disney_Oscar_1953_%28cropped%29.jpg/170px-Disney_Oscar_1953_%28cropped%29.jpg',\n",
       " 'https://upload.wikimedia.org/wikipedia/en/thumb/4/4a/Commons-logo.svg/30px-Commons-logo.svg.png',\n",
       " 'https://upload.wikimedia.org/wikipedia/commons/thumb/4/4c/Wikisource-logo.svg/38px-Wikisource-logo.svg.png',\n",
       " 'https://upload.wikimedia.org/wikipedia/commons/thumb/f/fa/Wikiquote-logo.svg/34px-Wikiquote-logo.svg.png',\n",
       " 'https://upload.wikimedia.org/wikipedia/en/thumb/8/8a/OOjs_UI_icon_edit-ltr-progressive.svg/10px-OOjs_UI_icon_edit-ltr-progressive.svg.png',\n",
       " 'https://upload.wikimedia.org/wikipedia/en/thumb/8/8a/OOjs_UI_icon_edit-ltr-progressive.svg/10px-OOjs_UI_icon_edit-ltr-progressive.svg.png',\n",
       " 'https://upload.wikimedia.org/wikipedia/commons/thumb/e/e3/Disneyland_Resort_logo.svg/135px-Disneyland_Resort_logo.svg.png',\n",
       " 'https://upload.wikimedia.org/wikipedia/commons/thumb/d/da/Animation_disc.svg/20px-Animation_disc.svg.png',\n",
       " 'https://upload.wikimedia.org/wikipedia/en/thumb/6/69/P_vip.svg/19px-P_vip.svg.png',\n",
       " 'https://upload.wikimedia.org/wikipedia/commons/thumb/1/1a/Magic_Kingdom_castle.jpg/15px-Magic_Kingdom_castle.jpg',\n",
       " 'https://upload.wikimedia.org/wikipedia/en/thumb/e/e7/Video-x-generic.svg/19px-Video-x-generic.svg.png',\n",
       " 'https://upload.wikimedia.org/wikipedia/commons/thumb/a/a3/Flag_of_Los_Angeles_County%2C_California.svg/21px-Flag_of_Los_Angeles_County%2C_California.svg.png',\n",
       " 'https://upload.wikimedia.org/wikipedia/commons/thumb/8/8c/Blank_television_set.svg/21px-Blank_television_set.svg.png',\n",
       " 'https://upload.wikimedia.org/wikipedia/en/thumb/a/a4/Flag_of_the_United_States.svg/21px-Flag_of_the_United_States.svg.png',\n",
       " 'https://upload.wikimedia.org/wikipedia/en/thumb/4/4a/Commons-logo.svg/14px-Commons-logo.svg.png',\n",
       " 'https://upload.wikimedia.org/wikipedia/commons/thumb/f/fa/Wikiquote-logo.svg/16px-Wikiquote-logo.svg.png',\n",
       " 'https://upload.wikimedia.org/wikipedia/commons/thumb/4/4c/Wikisource-logo.svg/18px-Wikisource-logo.svg.png',\n",
       " 'https://upload.wikimedia.org/wikipedia/commons/thumb/f/ff/Wikidata-logo.svg/21px-Wikidata-logo.svg.png',\n",
       " 'https://upload.wikimedia.org/wikipedia/en/thumb/8/8a/OOjs_UI_icon_edit-ltr-progressive.svg/10px-OOjs_UI_icon_edit-ltr-progressive.svg.png',\n",
       " 'https://en.wikipedia.org/static/images/footer/wikimedia-button.png',\n",
       " 'https://en.wikipedia.org/static/images/footer/poweredby_mediawiki_88x31.png']"
      ]
     },
     "execution_count": 27,
     "metadata": {},
     "output_type": "execute_result"
    }
   ],
   "source": [
    "fotos=[e.get_attribute('src') for e in driverdis.find_elements(By.TAG_NAME, 'img')]\n",
    "fotos"
   ]
  },
  {
   "cell_type": "markdown",
   "metadata": {},
   "source": [
    "#### Retrieve an arbitary Wikipedia page of \"Python\" and create a list of links on that page"
   ]
  },
  {
   "cell_type": "code",
   "execution_count": 28,
   "metadata": {},
   "outputs": [],
   "source": [
    "# This is the url you will scrape in this exercise\n",
    "urlwiki ='https://en.wikipedia.org/wiki/Python' "
   ]
  },
  {
   "cell_type": "code",
   "execution_count": 29,
   "metadata": {},
   "outputs": [],
   "source": [
    "#your code\n",
    "\n",
    "driverwiki=webdriver.Chrome(PATH)         \n",
    "\n",
    "driverwiki.get(urlwiki)\n"
   ]
  },
  {
   "cell_type": "code",
   "execution_count": 31,
   "metadata": {},
   "outputs": [
    {
     "data": {
      "text/plain": [
       "['https://en.wikipedia.org/wiki/Python#mw-head',\n",
       " 'https://en.wikipedia.org/wiki/Python#searchInput',\n",
       " 'https://en.wiktionary.org/wiki/Python',\n",
       " 'https://en.wiktionary.org/wiki/python',\n",
       " 'https://en.wikipedia.org/wiki/Python#Snakes',\n",
       " 'https://en.wikipedia.org/wiki/Python#Computing',\n",
       " 'https://en.wikipedia.org/wiki/Python#People',\n",
       " 'https://en.wikipedia.org/wiki/Python#Roller_coasters',\n",
       " 'https://en.wikipedia.org/wiki/Python#Vehicles']"
      ]
     },
     "execution_count": 31,
     "metadata": {},
     "output_type": "execute_result"
    }
   ],
   "source": [
    "links=[e.get_attribute('href') for e in driverwiki.find_elements(By.TAG_NAME, 'a')]\n",
    "links[1:10]"
   ]
  },
  {
   "cell_type": "markdown",
   "metadata": {},
   "source": [
    "#### Number of Titles that have changed in the United States Code since its last release point "
   ]
  },
  {
   "cell_type": "code",
   "execution_count": 32,
   "metadata": {},
   "outputs": [],
   "source": [
    "# This is the url you will scrape in this exercise\n",
    "urlusa = 'http://uscode.house.gov/download/download.shtml'"
   ]
  },
  {
   "cell_type": "code",
   "execution_count": 33,
   "metadata": {},
   "outputs": [],
   "source": [
    "#your code\n",
    "\n",
    "driverusa=webdriver.Chrome(PATH)         \n",
    "\n",
    "driverusa.get(urlusa)\n"
   ]
  },
  {
   "cell_type": "code",
   "execution_count": 34,
   "metadata": {},
   "outputs": [],
   "source": [
    "tablareusa=driverusa.find_elements(By.CLASS_NAME, 'usctitlechanged')\n",
    "usa = [i.text.strip() for i in tablareusa]"
   ]
  },
  {
   "cell_type": "code",
   "execution_count": 35,
   "metadata": {},
   "outputs": [
    {
     "name": "stdout",
     "output_type": "stream",
     "text": [
      "['Title 17 - Copyrights ٭', 'Title 22 - Foreign Relations and Intercourse', \"Title 38 - Veterans' Benefits ٭\", 'Title 40 - Public Buildings, Property, and Works ٭', 'Title 41 - Public Contracts ٭', 'Title 42 - The Public Health and Welfare', 'Title 44 - Public Printing and Documents ٭', 'Title 49 - Transportation ٭', 'Title 54 - National Park Service and Related Programs ٭']\n"
     ]
    },
    {
     "data": {
      "text/plain": [
       "9"
      ]
     },
     "execution_count": 35,
     "metadata": {},
     "output_type": "execute_result"
    }
   ],
   "source": [
    "print(usa)\n",
    "len(usa)"
   ]
  },
  {
   "cell_type": "markdown",
   "metadata": {},
   "source": [
    "#### A Python list with the top ten FBI's Most Wanted names "
   ]
  },
  {
   "cell_type": "code",
   "execution_count": 36,
   "metadata": {},
   "outputs": [],
   "source": [
    "# This is the url you will scrape in this exercise\n",
    "urlfbi = 'https://www.fbi.gov/wanted/topten'"
   ]
  },
  {
   "cell_type": "code",
   "execution_count": 37,
   "metadata": {},
   "outputs": [],
   "source": [
    "#your code \n",
    "\n",
    "driverfbi=webdriver.Chrome(PATH)         \n",
    "\n",
    "driverfbi.get(urlfbi)"
   ]
  },
  {
   "cell_type": "code",
   "execution_count": 38,
   "metadata": {},
   "outputs": [],
   "source": [
    "tablafbi=driverfbi.find_elements(By.CLASS_NAME, 'title')\n",
    "fbi = [i.text for i in tablafbi]"
   ]
  },
  {
   "cell_type": "code",
   "execution_count": 39,
   "metadata": {},
   "outputs": [
    {
     "data": {
      "text/plain": [
       "['MOST WANTED',\n",
       " 'OMAR ALEXANDER CARDENAS',\n",
       " 'ALEXIS FLORES',\n",
       " 'JOSE RODOLFO VILLARREAL-HERNANDEZ',\n",
       " 'YULAN ADONAY ARCHAGA CARIAS',\n",
       " 'BHADRESHKUMAR CHETANBHAI PATEL',\n",
       " 'ALEJANDRO ROSALES CASTILLO',\n",
       " 'MICHAEL JAMES PRATT',\n",
       " 'RUJA IGNATOVA',\n",
       " 'ARNOLDO JIMENEZ',\n",
       " 'RAFAEL CARO-QUINTERO']"
      ]
     },
     "execution_count": 39,
     "metadata": {},
     "output_type": "execute_result"
    }
   ],
   "source": [
    "fbi"
   ]
  },
  {
   "cell_type": "markdown",
   "metadata": {},
   "source": [
    "####  20 latest earthquakes info (date, time, latitude, longitude and region name) by the EMSC as a pandas dataframe"
   ]
  },
  {
   "cell_type": "code",
   "execution_count": 40,
   "metadata": {},
   "outputs": [],
   "source": [
    "# This is the url you will scrape in this exercise\n",
    "urlquak = 'https://www.emsc-csem.org/Earthquake/'"
   ]
  },
  {
   "cell_type": "code",
   "execution_count": 41,
   "metadata": {},
   "outputs": [],
   "source": [
    "#your code\n",
    "\n",
    "driverquak=webdriver.Chrome(PATH)         \n",
    "\n",
    "driverquak.get(urlquak)"
   ]
  },
  {
   "cell_type": "code",
   "execution_count": 42,
   "metadata": {},
   "outputs": [],
   "source": [
    "tablaquak=driverquak.find_element(By.XPATH, '//*[@id=\"tbody\"]')\n",
    "\n",
    "filasquak=tablaquak.find_elements(By.TAG_NAME, 'tr') \n",
    "\n",
    "terremotos=[]\n",
    "\n",
    "for f in filasquak:\n",
    "    \n",
    "    elementos=f.find_elements(By.TAG_NAME, 'td') \n",
    "    \n",
    "    tmp=[]\n",
    "    \n",
    "    for e in elementos:\n",
    "        \n",
    "        tmp.append(e.text)\n",
    "        \n",
    "    terremotos.append(tmp)\n"
   ]
  },
  {
   "cell_type": "code",
   "execution_count": 43,
   "metadata": {},
   "outputs": [
    {
     "data": {
      "text/plain": [
       "['Citizen',\n",
       " 'Date & Time',\n",
       " 'Latitude',\n",
       " 'Longitude',\n",
       " 'Depth',\n",
       " 'Mag',\n",
       " 'Region name']"
      ]
     },
     "execution_count": 43,
     "metadata": {},
     "output_type": "execute_result"
    }
   ],
   "source": [
    "cols = [e.text.split('\\n')[0] for e in driverquak.find_elements(By.TAG_NAME, 'th')][:7]\n",
    "cols"
   ]
  },
  {
   "cell_type": "code",
   "execution_count": 44,
   "metadata": {},
   "outputs": [],
   "source": [
    "cols= ['Citizen','Citizen','Citizen','Date_Time','Latitude','NS','Longitude','EW','Depth',' ','Mag','Region',' ']"
   ]
  },
  {
   "cell_type": "code",
   "execution_count": 45,
   "metadata": {},
   "outputs": [],
   "source": [
    "earthquakes = pd.DataFrame(terremotos, columns=cols)\n",
    "earthquakes=earthquakes[0:20]"
   ]
  },
  {
   "cell_type": "code",
   "execution_count": 46,
   "metadata": {},
   "outputs": [],
   "source": [
    "cols1 = ['Citizen','Citizen','NS','EW','Depth',' ','Mag',' ']\n",
    "\n",
    "earthquakes.drop(cols1, axis=1, inplace=True)\n"
   ]
  },
  {
   "cell_type": "code",
   "execution_count": 47,
   "metadata": {},
   "outputs": [],
   "source": [
    "earthquakes1 = []\n",
    "for i in earthquakes['Date_Time']:\n",
    "    earthquakes1.append(i.replace('\\n', ' '))"
   ]
  },
  {
   "cell_type": "code",
   "execution_count": 48,
   "metadata": {},
   "outputs": [],
   "source": [
    "earthquakes['Date_Time'] = earthquakes1"
   ]
  },
  {
   "cell_type": "code",
   "execution_count": 49,
   "metadata": {},
   "outputs": [
    {
     "data": {
      "text/html": [
       "<div>\n",
       "<style scoped>\n",
       "    .dataframe tbody tr th:only-of-type {\n",
       "        vertical-align: middle;\n",
       "    }\n",
       "\n",
       "    .dataframe tbody tr th {\n",
       "        vertical-align: top;\n",
       "    }\n",
       "\n",
       "    .dataframe thead th {\n",
       "        text-align: right;\n",
       "    }\n",
       "</style>\n",
       "<table border=\"1\" class=\"dataframe\">\n",
       "  <thead>\n",
       "    <tr style=\"text-align: right;\">\n",
       "      <th></th>\n",
       "      <th>Date_Time</th>\n",
       "      <th>Latitude</th>\n",
       "      <th>Longitude</th>\n",
       "      <th>Region</th>\n",
       "    </tr>\n",
       "  </thead>\n",
       "  <tbody>\n",
       "    <tr>\n",
       "      <th>0</th>\n",
       "      <td>2022-11-09   17:59:22.0 27min ago</td>\n",
       "      <td>30.12</td>\n",
       "      <td>71.24</td>\n",
       "      <td>COQUIMBO, CHILE</td>\n",
       "    </tr>\n",
       "    <tr>\n",
       "      <th>1</th>\n",
       "      <td>2022-11-09   17:58:07.0 29min ago</td>\n",
       "      <td>21.86</td>\n",
       "      <td>68.58</td>\n",
       "      <td>ANTOFAGASTA, CHILE</td>\n",
       "    </tr>\n",
       "    <tr>\n",
       "      <th>2</th>\n",
       "      <td>2022-11-09   17:52:00.0 35min ago</td>\n",
       "      <td>36.92</td>\n",
       "      <td>177.62</td>\n",
       "      <td>OFF E. COAST OF N. ISLAND, N.Z.</td>\n",
       "    </tr>\n",
       "    <tr>\n",
       "      <th>3</th>\n",
       "      <td>2022-11-09   17:49:48.6 37min ago</td>\n",
       "      <td>26.18</td>\n",
       "      <td>178.43</td>\n",
       "      <td>SOUTH OF FIJI ISLANDS</td>\n",
       "    </tr>\n",
       "    <tr>\n",
       "      <th>4</th>\n",
       "      <td>2022-11-09   17:47:30.0 39min ago</td>\n",
       "      <td>36.20</td>\n",
       "      <td>140.10</td>\n",
       "      <td>NEAR EAST COAST OF HONSHU, JAPAN</td>\n",
       "    </tr>\n",
       "    <tr>\n",
       "      <th>5</th>\n",
       "      <td>2022-11-09   17:46:24.0 40min ago</td>\n",
       "      <td>19.34</td>\n",
       "      <td>69.69</td>\n",
       "      <td>TARAPACA, CHILE</td>\n",
       "    </tr>\n",
       "    <tr>\n",
       "      <th>6</th>\n",
       "      <td>2022-11-09   17:37:24.8 49min ago</td>\n",
       "      <td>36.04</td>\n",
       "      <td>22.20</td>\n",
       "      <td>SOUTHERN GREECE</td>\n",
       "    </tr>\n",
       "    <tr>\n",
       "      <th>7</th>\n",
       "      <td>2022-11-09   17:37:20.5 49min ago</td>\n",
       "      <td>29.36</td>\n",
       "      <td>15.61</td>\n",
       "      <td>CANARY ISLANDS, SPAIN REGION</td>\n",
       "    </tr>\n",
       "    <tr>\n",
       "      <th>8</th>\n",
       "      <td>2022-11-09   17:35:43.0 51min ago</td>\n",
       "      <td>14.23</td>\n",
       "      <td>93.40</td>\n",
       "      <td>OFF COAST OF CHIAPAS, MEXICO</td>\n",
       "    </tr>\n",
       "    <tr>\n",
       "      <th>9</th>\n",
       "      <td>2022-11-09   17:29:46.5 57min ago</td>\n",
       "      <td>19.44</td>\n",
       "      <td>66.34</td>\n",
       "      <td>PUERTO RICO REGION</td>\n",
       "    </tr>\n",
       "    <tr>\n",
       "      <th>10</th>\n",
       "      <td>2022-11-09   17:19:36.9 1hr 07min ago</td>\n",
       "      <td>43.92</td>\n",
       "      <td>13.34</td>\n",
       "      <td>CENTRAL ITALY</td>\n",
       "    </tr>\n",
       "    <tr>\n",
       "      <th>11</th>\n",
       "      <td>2022-11-09   17:12:40.0 1hr 14min ago</td>\n",
       "      <td>24.16</td>\n",
       "      <td>67.15</td>\n",
       "      <td>SALTA, ARGENTINA</td>\n",
       "    </tr>\n",
       "    <tr>\n",
       "      <th>12</th>\n",
       "      <td>2022-11-09   17:05:45.0 1hr 21min ago</td>\n",
       "      <td>8.90</td>\n",
       "      <td>126.69</td>\n",
       "      <td>MINDANAO, PHILIPPINES</td>\n",
       "    </tr>\n",
       "    <tr>\n",
       "      <th>13</th>\n",
       "      <td>2022-11-09   16:58:17.0 1hr 28min ago</td>\n",
       "      <td>17.95</td>\n",
       "      <td>66.91</td>\n",
       "      <td>PUERTO RICO REGION</td>\n",
       "    </tr>\n",
       "    <tr>\n",
       "      <th>14</th>\n",
       "      <td>2022-11-09   16:57:37.0 1hr 29min ago</td>\n",
       "      <td>20.58</td>\n",
       "      <td>69.43</td>\n",
       "      <td>TARAPACA, CHILE</td>\n",
       "    </tr>\n",
       "    <tr>\n",
       "      <th>15</th>\n",
       "      <td>2022-11-09   16:57:20.7 1hr 29min ago</td>\n",
       "      <td>38.09</td>\n",
       "      <td>176.65</td>\n",
       "      <td>NORTH ISLAND OF NEW ZEALAND</td>\n",
       "    </tr>\n",
       "    <tr>\n",
       "      <th>16</th>\n",
       "      <td>2022-11-09   16:50:09.7 1hr 37min ago</td>\n",
       "      <td>43.91</td>\n",
       "      <td>13.31</td>\n",
       "      <td>CENTRAL ITALY</td>\n",
       "    </tr>\n",
       "    <tr>\n",
       "      <th>17</th>\n",
       "      <td>2022-11-09   16:50:02.0 1hr 37min ago</td>\n",
       "      <td>15.10</td>\n",
       "      <td>94.37</td>\n",
       "      <td>OFF COAST OF CHIAPAS, MEXICO</td>\n",
       "    </tr>\n",
       "    <tr>\n",
       "      <th>18</th>\n",
       "      <td>2022-11-09   16:43:54.0 1hr 43min ago</td>\n",
       "      <td>10.16</td>\n",
       "      <td>118.81</td>\n",
       "      <td>SOUTH OF SUMBAWA, INDONESIA</td>\n",
       "    </tr>\n",
       "    <tr>\n",
       "      <th>19</th>\n",
       "      <td>2022-11-09   16:41:19.4 1hr 45min ago</td>\n",
       "      <td>19.18</td>\n",
       "      <td>155.49</td>\n",
       "      <td>ISLAND OF HAWAII, HAWAII</td>\n",
       "    </tr>\n",
       "  </tbody>\n",
       "</table>\n",
       "</div>"
      ],
      "text/plain": [
       "                                Date_Time Latitude Longitude  \\\n",
       "0       2022-11-09   17:59:22.0 27min ago   30.12     71.24    \n",
       "1       2022-11-09   17:58:07.0 29min ago   21.86     68.58    \n",
       "2       2022-11-09   17:52:00.0 35min ago   36.92    177.62    \n",
       "3       2022-11-09   17:49:48.6 37min ago   26.18    178.43    \n",
       "4       2022-11-09   17:47:30.0 39min ago   36.20    140.10    \n",
       "5       2022-11-09   17:46:24.0 40min ago   19.34     69.69    \n",
       "6       2022-11-09   17:37:24.8 49min ago   36.04     22.20    \n",
       "7       2022-11-09   17:37:20.5 49min ago   29.36     15.61    \n",
       "8       2022-11-09   17:35:43.0 51min ago   14.23     93.40    \n",
       "9       2022-11-09   17:29:46.5 57min ago   19.44     66.34    \n",
       "10  2022-11-09   17:19:36.9 1hr 07min ago   43.92     13.34    \n",
       "11  2022-11-09   17:12:40.0 1hr 14min ago   24.16     67.15    \n",
       "12  2022-11-09   17:05:45.0 1hr 21min ago    8.90    126.69    \n",
       "13  2022-11-09   16:58:17.0 1hr 28min ago   17.95     66.91    \n",
       "14  2022-11-09   16:57:37.0 1hr 29min ago   20.58     69.43    \n",
       "15  2022-11-09   16:57:20.7 1hr 29min ago   38.09    176.65    \n",
       "16  2022-11-09   16:50:09.7 1hr 37min ago   43.91     13.31    \n",
       "17  2022-11-09   16:50:02.0 1hr 37min ago   15.10     94.37    \n",
       "18  2022-11-09   16:43:54.0 1hr 43min ago   10.16    118.81    \n",
       "19  2022-11-09   16:41:19.4 1hr 45min ago   19.18    155.49    \n",
       "\n",
       "                               Region  \n",
       "0                     COQUIMBO, CHILE  \n",
       "1                  ANTOFAGASTA, CHILE  \n",
       "2     OFF E. COAST OF N. ISLAND, N.Z.  \n",
       "3               SOUTH OF FIJI ISLANDS  \n",
       "4    NEAR EAST COAST OF HONSHU, JAPAN  \n",
       "5                     TARAPACA, CHILE  \n",
       "6                     SOUTHERN GREECE  \n",
       "7        CANARY ISLANDS, SPAIN REGION  \n",
       "8        OFF COAST OF CHIAPAS, MEXICO  \n",
       "9                  PUERTO RICO REGION  \n",
       "10                      CENTRAL ITALY  \n",
       "11                   SALTA, ARGENTINA  \n",
       "12              MINDANAO, PHILIPPINES  \n",
       "13                 PUERTO RICO REGION  \n",
       "14                    TARAPACA, CHILE  \n",
       "15        NORTH ISLAND OF NEW ZEALAND  \n",
       "16                      CENTRAL ITALY  \n",
       "17       OFF COAST OF CHIAPAS, MEXICO  \n",
       "18        SOUTH OF SUMBAWA, INDONESIA  \n",
       "19           ISLAND OF HAWAII, HAWAII  "
      ]
     },
     "execution_count": 49,
     "metadata": {},
     "output_type": "execute_result"
    }
   ],
   "source": [
    "earthquakes"
   ]
  },
  {
   "cell_type": "markdown",
   "metadata": {},
   "source": [
    "#### Count number of tweets by a given Twitter account."
   ]
  },
  {
   "cell_type": "markdown",
   "metadata": {},
   "source": [
    "You will need to include a ***try/except block*** for account names not found. \n",
    "<br>***Hint:*** the program should count the number of tweets for any provided account"
   ]
  },
  {
   "cell_type": "code",
   "execution_count": 50,
   "metadata": {},
   "outputs": [],
   "source": [
    "# This is the url you will scrape in this exercise \n",
    "# You will need to add the account credentials to this url\n",
    "urlstrokes = 'https://twitter.com/thestrokes/'"
   ]
  },
  {
   "cell_type": "code",
   "execution_count": 51,
   "metadata": {},
   "outputs": [],
   "source": [
    "#your code\n",
    "\n",
    "driverstrokes=webdriver.Chrome(PATH)         \n",
    "\n",
    "driverstrokes.get(urlstrokes)"
   ]
  },
  {
   "cell_type": "code",
   "execution_count": 54,
   "metadata": {},
   "outputs": [],
   "source": [
    "tablast=driverstrokes.find_elements(By.XPATH, '//*[@id=\"react-root\"]/div/div/div[2]/main/div/div/div/div/div/div[1]/div[1]/div/div/div/div/div/div[2]/div/div')\n",
    "strokes = [i.text.strip() for i in tablast]"
   ]
  },
  {
   "cell_type": "code",
   "execution_count": 55,
   "metadata": {},
   "outputs": [
    {
     "data": {
      "text/plain": [
       "['873 Tweets']"
      ]
     },
     "execution_count": 55,
     "metadata": {},
     "output_type": "execute_result"
    }
   ],
   "source": [
    "strokes"
   ]
  },
  {
   "cell_type": "markdown",
   "metadata": {},
   "source": [
    "#### Number of followers of a given twitter account"
   ]
  },
  {
   "cell_type": "markdown",
   "metadata": {},
   "source": [
    "You will need to include a ***try/except block*** in case account/s name not found. \n",
    "<br>***Hint:*** the program should count the followers for any provided account"
   ]
  },
  {
   "cell_type": "code",
   "execution_count": 56,
   "metadata": {},
   "outputs": [],
   "source": [
    "# This is the url you will scrape in this exercise \n",
    "# You will need to add the account credentials to this url\n",
    "urlhammond = 'https://twitter.com/alberthammondjr'"
   ]
  },
  {
   "cell_type": "code",
   "execution_count": 57,
   "metadata": {},
   "outputs": [],
   "source": [
    "driverhammond=webdriver.Chrome(PATH)         \n",
    "\n",
    "driverhammond.get(urlhammond)"
   ]
  },
  {
   "cell_type": "code",
   "execution_count": 60,
   "metadata": {},
   "outputs": [],
   "source": [
    "tablaham=driverhammond.find_elements(By.XPATH, '//*[@id=\"react-root\"]/div/div/div[2]/main/div/div/div/div/div/div[3]/div/div/div/div/div[5]/div[2]/a/span[1]/span')\n",
    "hammond = [i.text.strip() for i in tablaham]"
   ]
  },
  {
   "cell_type": "code",
   "execution_count": 61,
   "metadata": {},
   "outputs": [
    {
     "data": {
      "text/plain": [
       "['120,8 mil']"
      ]
     },
     "execution_count": 61,
     "metadata": {},
     "output_type": "execute_result"
    }
   ],
   "source": [
    "hammond"
   ]
  },
  {
   "cell_type": "markdown",
   "metadata": {},
   "source": [
    "#### List all language names and number of related articles in the order they appear in wikipedia.org"
   ]
  },
  {
   "cell_type": "code",
   "execution_count": 62,
   "metadata": {},
   "outputs": [],
   "source": [
    "# This is the url you will scrape in this exercise\n",
    "urlid = 'https://www.wikipedia.org/'"
   ]
  },
  {
   "cell_type": "code",
   "execution_count": 63,
   "metadata": {},
   "outputs": [],
   "source": [
    "#your code\n",
    "\n",
    "driverid=webdriver.Chrome(PATH)         \n",
    "\n",
    "driverid.get(urlid)\n"
   ]
  },
  {
   "cell_type": "code",
   "execution_count": 64,
   "metadata": {},
   "outputs": [],
   "source": [
    "tablaid=driverid.find_elements(By.CLASS_NAME, 'central-featured-lang')\n",
    "idiomas = [i.text.replace('\\n',' ') for i in tablaid]"
   ]
  },
  {
   "cell_type": "code",
   "execution_count": 65,
   "metadata": {},
   "outputs": [
    {
     "data": {
      "text/plain": [
       "['Español 1 755 000+ artículos',\n",
       " 'English 6 458 000+ articles',\n",
       " '日本語 1 314 000+ 記事',\n",
       " 'Русский 1 798 000+ статей',\n",
       " 'Français 2 400 000+ articles',\n",
       " 'Deutsch 2 667 000+ Artikel',\n",
       " 'Italiano 1 742 000+ voci',\n",
       " '中文 1 256 000+ 条目 / 條目',\n",
       " 'Português 1 085 000+ artigos',\n",
       " 'العربية 1 159 000+ مقالة']"
      ]
     },
     "execution_count": 65,
     "metadata": {},
     "output_type": "execute_result"
    }
   ],
   "source": [
    "idiomas"
   ]
  },
  {
   "cell_type": "markdown",
   "metadata": {},
   "source": [
    "#### A list with the different kind of datasets available in data.gov.uk "
   ]
  },
  {
   "cell_type": "code",
   "execution_count": 66,
   "metadata": {},
   "outputs": [],
   "source": [
    "# This is the url you will scrape in this exercise\n",
    "urlgov = 'https://data.gov.uk/'"
   ]
  },
  {
   "cell_type": "code",
   "execution_count": 67,
   "metadata": {},
   "outputs": [],
   "source": [
    "#your code \n",
    "\n",
    "drivergov=webdriver.Chrome(PATH)         \n",
    "\n",
    "drivergov.get(urlgov)"
   ]
  },
  {
   "cell_type": "code",
   "execution_count": 68,
   "metadata": {},
   "outputs": [],
   "source": [
    "tablagov=drivergov.find_elements(By.CLASS_NAME, 'govuk-heading-s')\n",
    "gov = [i.text for i in tablagov]"
   ]
  },
  {
   "cell_type": "code",
   "execution_count": 69,
   "metadata": {},
   "outputs": [
    {
     "data": {
      "text/plain": [
       "['Business and economy',\n",
       " 'Crime and justice',\n",
       " 'Defence',\n",
       " 'Education',\n",
       " 'Environment',\n",
       " 'Government',\n",
       " 'Government spending',\n",
       " 'Health',\n",
       " 'Mapping',\n",
       " 'Society',\n",
       " 'Towns and cities',\n",
       " 'Transport',\n",
       " 'Digital service performance',\n",
       " 'Government reference data']"
      ]
     },
     "execution_count": 69,
     "metadata": {},
     "output_type": "execute_result"
    }
   ],
   "source": [
    "gov"
   ]
  },
  {
   "cell_type": "markdown",
   "metadata": {},
   "source": [
    "#### Top 10 languages by number of native speakers stored in a Pandas Dataframe"
   ]
  },
  {
   "cell_type": "code",
   "execution_count": 70,
   "metadata": {},
   "outputs": [],
   "source": [
    "# This is the url you will scrape in this exercise\n",
    "urllan = 'https://en.wikipedia.org/wiki/List_of_languages_by_number_of_native_speakers'"
   ]
  },
  {
   "cell_type": "code",
   "execution_count": 71,
   "metadata": {},
   "outputs": [],
   "source": [
    "#your code\n",
    "\n",
    "driverlan=webdriver.Chrome(PATH)         \n",
    "\n",
    "driverlan.get(urllan)"
   ]
  },
  {
   "cell_type": "code",
   "execution_count": 72,
   "metadata": {},
   "outputs": [],
   "source": [
    "tablalan=driverlan.find_element(By.TAG_NAME, 'tbody')\n",
    "\n",
    "filaslan=tablalan.find_elements(By.TAG_NAME, 'tr')"
   ]
  },
  {
   "cell_type": "code",
   "execution_count": 73,
   "metadata": {},
   "outputs": [],
   "source": [
    "datalan=[[e.text for e in f.find_elements(By.TAG_NAME, 'td')] \n",
    "      for f in tablalan.find_elements(By.TAG_NAME, 'tr')]\n",
    "\n",
    "datalangs=datalan[1:11]"
   ]
  },
  {
   "cell_type": "code",
   "execution_count": 74,
   "metadata": {},
   "outputs": [
    {
     "data": {
      "text/plain": [
       "[['Spanish', '475', 'Indo-European', 'Romance'],\n",
       " ['English', '373', 'Indo-European', 'Germanic'],\n",
       " ['Hindi\\n(excl. Urdu)', '344', 'Indo-European', 'Indo-Aryan'],\n",
       " ['Bengali', '234', 'Indo-European', 'Indo-Aryan'],\n",
       " ['Portuguese', '232', 'Indo-European', 'Romance'],\n",
       " ['Russian', '154', 'Indo-European', 'Balto-Slavic'],\n",
       " ['Japanese', '125', 'Japonic', 'Japanese'],\n",
       " ['Yue Chinese\\n(incl. Cantonese)', '85.2', 'Sino-Tibetan', 'Sinitic'],\n",
       " ['Vietnamese', '84.6', 'Austroasiatic', 'Vietic'],\n",
       " ['Marathi', '83.1', 'Indo-European', 'Indo-Aryan']]"
      ]
     },
     "execution_count": 74,
     "metadata": {},
     "output_type": "execute_result"
    }
   ],
   "source": [
    "datalangs"
   ]
  },
  {
   "cell_type": "code",
   "execution_count": 75,
   "metadata": {},
   "outputs": [
    {
     "data": {
      "text/plain": [
       "['Language', 'Native speakers\\n(millions)', 'Language family', 'Branch']"
      ]
     },
     "execution_count": 75,
     "metadata": {},
     "output_type": "execute_result"
    }
   ],
   "source": [
    "cabeceras=driverlan.find_element(By.TAG_NAME, 'thead')\n",
    "\n",
    "cabeceras=[c.text for c in cabeceras.find_elements(By.TAG_NAME, 'th')]\n",
    "\n",
    "cabeceras"
   ]
  },
  {
   "cell_type": "code",
   "execution_count": 76,
   "metadata": {},
   "outputs": [
    {
     "data": {
      "text/html": [
       "<div>\n",
       "<style scoped>\n",
       "    .dataframe tbody tr th:only-of-type {\n",
       "        vertical-align: middle;\n",
       "    }\n",
       "\n",
       "    .dataframe tbody tr th {\n",
       "        vertical-align: top;\n",
       "    }\n",
       "\n",
       "    .dataframe thead th {\n",
       "        text-align: right;\n",
       "    }\n",
       "</style>\n",
       "<table border=\"1\" class=\"dataframe\">\n",
       "  <thead>\n",
       "    <tr style=\"text-align: right;\">\n",
       "      <th></th>\n",
       "      <th>Language</th>\n",
       "      <th>Native speakers\\n(millions)</th>\n",
       "      <th>Language family</th>\n",
       "      <th>Branch</th>\n",
       "    </tr>\n",
       "  </thead>\n",
       "  <tbody>\n",
       "    <tr>\n",
       "      <th>0</th>\n",
       "      <td>Spanish</td>\n",
       "      <td>475</td>\n",
       "      <td>Indo-European</td>\n",
       "      <td>Romance</td>\n",
       "    </tr>\n",
       "    <tr>\n",
       "      <th>1</th>\n",
       "      <td>English</td>\n",
       "      <td>373</td>\n",
       "      <td>Indo-European</td>\n",
       "      <td>Germanic</td>\n",
       "    </tr>\n",
       "    <tr>\n",
       "      <th>2</th>\n",
       "      <td>Hindi\\n(excl. Urdu)</td>\n",
       "      <td>344</td>\n",
       "      <td>Indo-European</td>\n",
       "      <td>Indo-Aryan</td>\n",
       "    </tr>\n",
       "    <tr>\n",
       "      <th>3</th>\n",
       "      <td>Bengali</td>\n",
       "      <td>234</td>\n",
       "      <td>Indo-European</td>\n",
       "      <td>Indo-Aryan</td>\n",
       "    </tr>\n",
       "    <tr>\n",
       "      <th>4</th>\n",
       "      <td>Portuguese</td>\n",
       "      <td>232</td>\n",
       "      <td>Indo-European</td>\n",
       "      <td>Romance</td>\n",
       "    </tr>\n",
       "    <tr>\n",
       "      <th>5</th>\n",
       "      <td>Russian</td>\n",
       "      <td>154</td>\n",
       "      <td>Indo-European</td>\n",
       "      <td>Balto-Slavic</td>\n",
       "    </tr>\n",
       "    <tr>\n",
       "      <th>6</th>\n",
       "      <td>Japanese</td>\n",
       "      <td>125</td>\n",
       "      <td>Japonic</td>\n",
       "      <td>Japanese</td>\n",
       "    </tr>\n",
       "    <tr>\n",
       "      <th>7</th>\n",
       "      <td>Yue Chinese\\n(incl. Cantonese)</td>\n",
       "      <td>85.2</td>\n",
       "      <td>Sino-Tibetan</td>\n",
       "      <td>Sinitic</td>\n",
       "    </tr>\n",
       "    <tr>\n",
       "      <th>8</th>\n",
       "      <td>Vietnamese</td>\n",
       "      <td>84.6</td>\n",
       "      <td>Austroasiatic</td>\n",
       "      <td>Vietic</td>\n",
       "    </tr>\n",
       "    <tr>\n",
       "      <th>9</th>\n",
       "      <td>Marathi</td>\n",
       "      <td>83.1</td>\n",
       "      <td>Indo-European</td>\n",
       "      <td>Indo-Aryan</td>\n",
       "    </tr>\n",
       "  </tbody>\n",
       "</table>\n",
       "</div>"
      ],
      "text/plain": [
       "                         Language Native speakers\\n(millions) Language family  \\\n",
       "0                         Spanish                         475   Indo-European   \n",
       "1                         English                         373   Indo-European   \n",
       "2             Hindi\\n(excl. Urdu)                         344   Indo-European   \n",
       "3                         Bengali                         234   Indo-European   \n",
       "4                      Portuguese                         232   Indo-European   \n",
       "5                         Russian                         154   Indo-European   \n",
       "6                        Japanese                         125         Japonic   \n",
       "7  Yue Chinese\\n(incl. Cantonese)                        85.2    Sino-Tibetan   \n",
       "8                      Vietnamese                        84.6   Austroasiatic   \n",
       "9                         Marathi                        83.1   Indo-European   \n",
       "\n",
       "         Branch  \n",
       "0       Romance  \n",
       "1      Germanic  \n",
       "2    Indo-Aryan  \n",
       "3    Indo-Aryan  \n",
       "4       Romance  \n",
       "5  Balto-Slavic  \n",
       "6      Japanese  \n",
       "7       Sinitic  \n",
       "8        Vietic  \n",
       "9    Indo-Aryan  "
      ]
     },
     "execution_count": 76,
     "metadata": {},
     "output_type": "execute_result"
    }
   ],
   "source": [
    "languages=pd.DataFrame(datalangs, columns=cabeceras)\n",
    "languages"
   ]
  },
  {
   "cell_type": "markdown",
   "metadata": {},
   "source": [
    "### BONUS QUESTIONS"
   ]
  },
  {
   "cell_type": "markdown",
   "metadata": {},
   "source": [
    "#### Scrape a certain number of tweets of a given Twitter account."
   ]
  },
  {
   "cell_type": "code",
   "execution_count": 77,
   "metadata": {},
   "outputs": [],
   "source": [
    "# This is the url you will scrape in this exercise \n",
    "# You will need to add the account credentials to this url\n",
    "urlalb = 'https://twitter.com/alberthammondjr'"
   ]
  },
  {
   "cell_type": "code",
   "execution_count": 78,
   "metadata": {},
   "outputs": [],
   "source": [
    "# your code\n",
    "\n",
    "driveralb=webdriver.Chrome(PATH)         \n",
    "\n",
    "driveralb.get(urlalb)"
   ]
  },
  {
   "cell_type": "code",
   "execution_count": 80,
   "metadata": {},
   "outputs": [
    {
     "data": {
      "text/plain": [
       "[['Tweet fijado',\n",
       "  'Albert Hammond Jr',\n",
       "  '@alberthammondjr',\n",
       "  '·',\n",
       "  '9 mar. 2020',\n",
       "  '2 year anniversary of 𝐅𝐫𝐚𝐧𝐜𝐢𝐬 𝐓𝐫𝐨𝐮𝐛𝐥𝐞 sold out of the vinyl.Did we stop there?NoWeDidn’tWe did the next best thing to going platinum/We went & made a new 1,a better one,a milky creamy 1/Link in bio(not to be confused w/link in park)\\u2063 #francistrouble',\n",
       "  '29',\n",
       "  '56',\n",
       "  '769'],\n",
       " ['Albert Hammond Jr',\n",
       "  '@alberthammondjr',\n",
       "  '·',\n",
       "  '1 mar. 2021',\n",
       "  \"Come bid on my signature Fender Strat! We're raising money for the Food Bank of New York and the San Antonio Food Bank. Bidding is open until March 15 at 6pm EST. Link in park & stories. Lucy’s already made the guitar her own. At 11 She looks cooler than I do. As it should be.\",\n",
       "  '20',\n",
       "  '28',\n",
       "  '494'],\n",
       " ['Albert Hammond Jr',\n",
       "  '@alberthammondjr',\n",
       "  '·',\n",
       "  '1 mar. 2021',\n",
       "  \"Come bid on my signature Fender Strat! We're raising money for the Food Bank of New York and the San Antonio Food Bank. Bidding is open until March 15 at 6pm EST. Start bidding here: https://32auctions.com/organizations/78810/auctions/96677/auction_items/2761465…\",\n",
       "  '29',\n",
       "  '92',\n",
       "  '951']]"
      ]
     },
     "execution_count": 80,
     "metadata": {},
     "output_type": "execute_result"
    }
   ],
   "source": [
    "twits=[e.text.split('\\n') for e in driveralb.find_elements(By.TAG_NAME, 'article')]\n",
    "twits\n"
   ]
  },
  {
   "cell_type": "markdown",
   "metadata": {},
   "source": [
    "#### IMDB's Top 250 data (movie name, Initial release, director name and stars) as a pandas dataframe"
   ]
  },
  {
   "cell_type": "code",
   "execution_count": 81,
   "metadata": {},
   "outputs": [],
   "source": [
    "# This is the url you will scrape in this exercise \n",
    "url = 'https://www.imdb.com/chart/top'"
   ]
  },
  {
   "cell_type": "code",
   "execution_count": 82,
   "metadata": {},
   "outputs": [],
   "source": [
    "# your code"
   ]
  },
  {
   "cell_type": "markdown",
   "metadata": {},
   "source": [
    "#### Movie name, year and a brief summary of the top 10 random movies (IMDB) as a pandas dataframe."
   ]
  },
  {
   "cell_type": "code",
   "execution_count": 83,
   "metadata": {},
   "outputs": [],
   "source": [
    "#This is the url you will scrape in this exercise\n",
    "urlmov = 'http://www.imdb.com/chart/top'"
   ]
  },
  {
   "cell_type": "code",
   "execution_count": 84,
   "metadata": {},
   "outputs": [],
   "source": [
    "#your code\n",
    "\n",
    "drivermov=webdriver.Chrome(PATH)         \n",
    "\n",
    "drivermov.get(urlmov)"
   ]
  },
  {
   "cell_type": "code",
   "execution_count": 85,
   "metadata": {},
   "outputs": [],
   "source": [
    "tablamov=drivermov.find_element(By.TAG_NAME, 'tbody')\n",
    "\n",
    "filasmov=tablamov.find_elements(By.TAG_NAME, 'tr')"
   ]
  },
  {
   "cell_type": "code",
   "execution_count": 86,
   "metadata": {},
   "outputs": [],
   "source": [
    "movies=[[e.text for e in f.find_elements(By.TAG_NAME, 'td')] \n",
    "      for f in tablamov.find_elements(By.TAG_NAME, 'tr')]\n"
   ]
  },
  {
   "cell_type": "code",
   "execution_count": 87,
   "metadata": {},
   "outputs": [
    {
     "data": {
      "text/plain": [
       "['', 'Rank & Title', 'IMDb Rating', 'Your Rating', '']"
      ]
     },
     "execution_count": 87,
     "metadata": {},
     "output_type": "execute_result"
    }
   ],
   "source": [
    "cabeceramov=drivermov.find_element(By.TAG_NAME, 'thead')\n",
    "\n",
    "cabeceramov=[c.text for c in cabeceramov.find_elements(By.TAG_NAME, 'th')]\n",
    "\n",
    "cabeceramov"
   ]
  },
  {
   "cell_type": "code",
   "execution_count": 88,
   "metadata": {},
   "outputs": [
    {
     "data": {
      "text/html": [
       "<div>\n",
       "<style scoped>\n",
       "    .dataframe tbody tr th:only-of-type {\n",
       "        vertical-align: middle;\n",
       "    }\n",
       "\n",
       "    .dataframe tbody tr th {\n",
       "        vertical-align: top;\n",
       "    }\n",
       "\n",
       "    .dataframe thead th {\n",
       "        text-align: right;\n",
       "    }\n",
       "</style>\n",
       "<table border=\"1\" class=\"dataframe\">\n",
       "  <thead>\n",
       "    <tr style=\"text-align: right;\">\n",
       "      <th></th>\n",
       "      <th></th>\n",
       "      <th>Rank &amp; Title</th>\n",
       "      <th>IMDb Rating</th>\n",
       "      <th>Your Rating</th>\n",
       "      <th></th>\n",
       "    </tr>\n",
       "  </thead>\n",
       "  <tbody>\n",
       "    <tr>\n",
       "      <th>0</th>\n",
       "      <td></td>\n",
       "      <td>1. Cadena perpetua (1994)</td>\n",
       "      <td>9,2</td>\n",
       "      <td></td>\n",
       "      <td></td>\n",
       "    </tr>\n",
       "    <tr>\n",
       "      <th>1</th>\n",
       "      <td></td>\n",
       "      <td>2. El padrino (1972)</td>\n",
       "      <td>9,2</td>\n",
       "      <td></td>\n",
       "      <td></td>\n",
       "    </tr>\n",
       "    <tr>\n",
       "      <th>2</th>\n",
       "      <td></td>\n",
       "      <td>3. El caballero oscuro (2008)</td>\n",
       "      <td>9,0</td>\n",
       "      <td></td>\n",
       "      <td></td>\n",
       "    </tr>\n",
       "    <tr>\n",
       "      <th>3</th>\n",
       "      <td></td>\n",
       "      <td>4. El padrino (parte II) (1974)</td>\n",
       "      <td>9,0</td>\n",
       "      <td></td>\n",
       "      <td></td>\n",
       "    </tr>\n",
       "    <tr>\n",
       "      <th>4</th>\n",
       "      <td></td>\n",
       "      <td>5. 12 hombres sin piedad (1957)</td>\n",
       "      <td>9,0</td>\n",
       "      <td></td>\n",
       "      <td></td>\n",
       "    </tr>\n",
       "    <tr>\n",
       "      <th>...</th>\n",
       "      <td>...</td>\n",
       "      <td>...</td>\n",
       "      <td>...</td>\n",
       "      <td>...</td>\n",
       "      <td>...</td>\n",
       "    </tr>\n",
       "    <tr>\n",
       "      <th>245</th>\n",
       "      <td></td>\n",
       "      <td>246. Dersu Uzala (El cazador) (1975)</td>\n",
       "      <td>8,0</td>\n",
       "      <td></td>\n",
       "      <td></td>\n",
       "    </tr>\n",
       "    <tr>\n",
       "      <th>246</th>\n",
       "      <td></td>\n",
       "      <td>247. Aladdín (1992)</td>\n",
       "      <td>8,0</td>\n",
       "      <td></td>\n",
       "      <td></td>\n",
       "    </tr>\n",
       "    <tr>\n",
       "      <th>247</th>\n",
       "      <td></td>\n",
       "      <td>248. Criadas y señoras (2011)</td>\n",
       "      <td>8,0</td>\n",
       "      <td></td>\n",
       "      <td></td>\n",
       "    </tr>\n",
       "    <tr>\n",
       "      <th>248</th>\n",
       "      <td></td>\n",
       "      <td>249. Gandhi (1982)</td>\n",
       "      <td>8,0</td>\n",
       "      <td></td>\n",
       "      <td></td>\n",
       "    </tr>\n",
       "    <tr>\n",
       "      <th>249</th>\n",
       "      <td></td>\n",
       "      <td>250. El gigante de hierro (1999)</td>\n",
       "      <td>8,0</td>\n",
       "      <td></td>\n",
       "      <td></td>\n",
       "    </tr>\n",
       "  </tbody>\n",
       "</table>\n",
       "<p>250 rows × 5 columns</p>\n",
       "</div>"
      ],
      "text/plain": [
       "                                Rank & Title IMDb Rating Your Rating   \n",
       "0                  1. Cadena perpetua (1994)         9,2               \n",
       "1                       2. El padrino (1972)         9,2               \n",
       "2              3. El caballero oscuro (2008)         9,0               \n",
       "3            4. El padrino (parte II) (1974)         9,0               \n",
       "4            5. 12 hombres sin piedad (1957)         9,0               \n",
       "..  ..                                   ...         ...         ... ..\n",
       "245     246. Dersu Uzala (El cazador) (1975)         8,0               \n",
       "246                      247. Aladdín (1992)         8,0               \n",
       "247            248. Criadas y señoras (2011)         8,0               \n",
       "248                       249. Gandhi (1982)         8,0               \n",
       "249         250. El gigante de hierro (1999)         8,0               \n",
       "\n",
       "[250 rows x 5 columns]"
      ]
     },
     "execution_count": 88,
     "metadata": {},
     "output_type": "execute_result"
    }
   ],
   "source": [
    "pelis=pd.DataFrame(movies, columns=cabeceramov)\n",
    "\n",
    "pelis"
   ]
  },
  {
   "cell_type": "markdown",
   "metadata": {},
   "source": [
    "#### Find the live weather report (temperature, wind speed, description and weather) of a given city."
   ]
  },
  {
   "cell_type": "code",
   "execution_count": null,
   "metadata": {},
   "outputs": [],
   "source": [
    "#https://openweathermap.org/current\n",
    "city = city=input('Enter the city:')\n",
    "url = 'http://api.openweathermap.org/data/2.5/weather?'+'q='+city+'&APPID=b35975e18dc93725acb092f7272cc6b8&units=metric'"
   ]
  },
  {
   "cell_type": "code",
   "execution_count": null,
   "metadata": {},
   "outputs": [],
   "source": [
    "# your code"
   ]
  },
  {
   "cell_type": "markdown",
   "metadata": {},
   "source": [
    "#### Book name,price and stock availability as a pandas dataframe."
   ]
  },
  {
   "cell_type": "code",
   "execution_count": null,
   "metadata": {},
   "outputs": [],
   "source": [
    "# This is the url you will scrape in this exercise. \n",
    "# It is a fictional bookstore created to be scraped. \n",
    "url = 'http://books.toscrape.com/'"
   ]
  },
  {
   "cell_type": "code",
   "execution_count": null,
   "metadata": {},
   "outputs": [],
   "source": [
    "#your code"
   ]
  }
 ],
 "metadata": {
  "kernelspec": {
   "display_name": "Python 3 (ipykernel)",
   "language": "python",
   "name": "python3"
  },
  "language_info": {
   "codemirror_mode": {
    "name": "ipython",
    "version": 3
   },
   "file_extension": ".py",
   "mimetype": "text/x-python",
   "name": "python",
   "nbconvert_exporter": "python",
   "pygments_lexer": "ipython3",
   "version": "3.9.12"
  }
 },
 "nbformat": 4,
 "nbformat_minor": 2
}
